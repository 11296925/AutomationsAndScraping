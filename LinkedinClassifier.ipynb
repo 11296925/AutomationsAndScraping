{
 "cells": [
  {
   "cell_type": "code",
   "execution_count": 170,
   "metadata": {},
   "outputs": [],
   "source": [
    "import json as j\n",
    "import pandas as pd\n",
    "import re\n",
    "import numpy as np\n",
    "from nltk.corpus import stopwords\n",
    "from nltk.stem import SnowballStemmer\n",
    "from sklearn.feature_extraction.text import TfidfVectorizer\n",
    "from sklearn.svm import LinearSVC\n",
    "from sklearn.pipeline import Pipeline\n",
    "from sklearn.model_selection import train_test_split\n",
    "from sklearn.feature_selection import SelectKBest, chi2\n",
    "from nltk import word_tokenize\n",
    "import string\n",
    "import nltk"
   ]
  },
  {
   "cell_type": "code",
   "execution_count": 173,
   "metadata": {},
   "outputs": [],
   "source": [
    "lst_stopwords = nltk.corpus.stopwords.words(\"dutch\")\n",
    "\n",
    "# REMOVE STOPWORDS\n",
    "\n",
    "# dtf[\"text_clean\"] = dtf[\"text\"].apply(lambda x: \n",
    "#           utils_preprocess_text(x, flg_stemm=False, flg_lemm=True, \n",
    "#           lst_stopwords=lst_stopwords))"
   ]
  },
  {
   "cell_type": "code",
   "execution_count": 166,
   "metadata": {},
   "outputs": [
    {
     "name": "stdout",
     "output_type": "stream",
     "text": [
      "['hi', 'koen', 'dank', 'voor', 'het', 'aanbod', 'maar', 'momenteel', 'zit', 'ik', 'goed', 'bij', 'spyke', 'als', 'accountmanager', 'gr', 'michael']\n",
      "['hi', 'koen', 'ik', 'zit', 'goed', 'op', 'mijn', 'plek', 'bij', 'randstad', 'dus', 'heb', 'geen', 'interesse', 'maar', 'bedankt', 'voor', 'het', 'aanbod']\n",
      "['hi', 'koen', 'bedankt', 'voor', 'je', 'berichten', 'ik', 'sta', 'open', 'voor', 'nieuwe', 'uitdagingen', 'maar', 'helaas', 'niet', 'meer', 'in', 'sales', 'toch', 'bedankt', 'voor', 'je', 'interesse', 'en', 'succes', 'met', 'het', 'zoeken', 'naar', 'de', 'juiste', 'kandidaat', 'groet', 'isabelle']\n",
      "['beste', 'koen', 'bedankt', 'voor', 'je', 'berichtje', 'strategic', 'sales', 'is', 'echter', 'niets', 'voor', 'mij', 'ik', 'ben', 'opzoek', 'naar', 'een', 'functie', 'die', 'gericht', 'is', 'op', 'gastvrijheid', 'of', 'bijvoorbeeld', 'het', 'coördineren', 'van', 'projecten', 'heb', 'je', 'toevallig', 'een', 'functie', 'in', 'die', 'richting', 'open', 'staan', 'met', 'vriendelijke', 'groet', 'sander', 'den', 'hoedt']\n",
      "['goedemiddag', 'koen', 'bedankt', 'voor', 'je', 'bericht', 'op', 'dit', 'moment', 'ben', 'ik', 'niet', 'opzoek', 'naar', 'een', 'nieuwe', 'uitdaging', 'ik', 'zit', 'helemaal', 'op', 'mijn', 'plek', 'bij', 'randstad', 'fijne', 'dag', 'gewenst', 'groetjes', 'semke']\n",
      "['hoi', 'koen', 'bedankt', 'voor', 'het', 'benaderen', 'ik', 'ben', 'echter', 'zo', 'goed', 'als', 'rond', 'met', 'een', 'potentiële', 'werkgever', 'als', 'het', 'alsnog', 'stuk', 'loopt', 'dan', 'hoor', 'je', 'van', 'me']\n",
      "['hi', 'koen', 'thanks', 'voor', 'je', 'interesse', 'helaas', 'is', 'sales', 'niet', 'echt', 'iets', 'voor', 'mij', 'daarnaast', 'studeer', 'werk', 'ik', 'nu', 'dus', 'ook', 'nog', 'niet', 'op', 'zoek', 'naar', 'een', 'volgende', 'stap', 'wellicht', 'kunnen', 'we', 'iets', 'in', 'de', 'toekomst', 'voor', 'elkaar', 'betekenen', 'groet', 'lisa']\n",
      "['beste', 'koen', 'bedankt', 'voor', 'je', 'bericht', 'maar', 'ik', 'ben', 'momenteel', 'niet', 'echt', 'op', 'zoek', 'naar', 'een', 'andere', 'baan', 'heeft', 'ook', 'te', 'maken', 'met', 'een', 'mogelijke', 'verhuizing', 'in', 'ieder', 'geval', 'voor', 'je', 'interesse', 'wie', 'weet', 'spreken', 'we', 'elkaar', 'nog', 'eens', 'in', 'de', 'toekomst', 'nog', 'een', 'fijne', 'dag', 'gewenst', 'groet', 'jarinda']\n",
      "['hi', 'koen', 'bedankt', 'voor', 'je', 'interesse', 'gebaseerd', 'op', 'mijn', 'profiel', 'ik', 'ben', 'recent', 'met', 'een', 'nieuwe', 'functie', 'gestart', 'dus', 'de', 'komende', 'periode', 'kan', 'ik', 'geen', 'overstap', 'maken', 'als', 'het', 'in', 'de', 'toekomst', 'beter', 'uitkomt', 'zal', 'ik', 'zeker', 'naar', 'je', 'uitreiken', 'om', 'te', 'kijken', 'wat', 'de', 'mogelijkheden', 'zijn']\n",
      "['beste', 'koen', 'hartelijk', 'bedankt', 'voor', 'uw', 'bericht', 'helaas', 'zoek', 'ik', 'meer', 'iets', 'in', 'de', 'richting', 'van', 'hrfinancieel', 'medewerker', 'of', 'adviseur', 'groet', 'maxime', 'van', 'de', 'laar']\n",
      "['hoi', 'koen', 'bedankt', 'voor', 'je', 'bericht', 'momenteel', 'heb', 'ik', 'het', 'prima', 'naar', 'mijn', 'zin', 'binnen', 'mijn', 'huidige', 'functie', 'en', 'niet', 'op', 'zoek', 'naar', 'een', 'nieuwe', 'uitdaging', 'bedankt', 'in', 'ieder', 'geval', 'voor', 'de', 'interesse', 'mvg', 'remko']\n",
      "['beste', 'op', 'dit', 'moment', 'heb', 'ik', 'geen', 'interesse', 'mocht', 'ik', 'alsnog', 'op', 'zoek', 'zijn', 'dan', 'laat', 'ik', 'het', 'weten', 'grt', 'randy']\n",
      "['goedemorgen', 'koen', 'ik', 'heb', 'het', 'prima', 'naar', 'mn', 'zin', 'bij', 'ricoh', 'op', 'dit', 'moment', 'op', 'dit', 'moment', 'geen', 'interesse', 'gr', 'michel']\n",
      "['dag', 'koen', 'nee', 'nog', 'geen', 'interesse', 'succes', 'met', 'het', 'vinden', 'van', 'een', 'passende', 'kandidaat']\n",
      "['dag', 'een', 'geen', 'het', 'interesse', 'kandidaat', 'koen', 'met', 'nee', 'nog', 'passende', 'succes', 'van', 'vinden']\n",
      "(14, 14)\n"
     ]
    }
   ],
   "source": [
    "# TF-IDF Algorithm\n",
    "# Import text files and convert to lowercase\n",
    "fneg = open(\"Downloads/LinkedinAuto/linkedinneg.txt\", \"r\")\n",
    "textneg = fneg.read()\n",
    "message_list = textneg.split('\\n\\n')\n",
    "\n",
    "data_neg = []\n",
    "for message in message_list:\n",
    "    message = re.sub(r'\\d+', '', message)\n",
    "    exclude = set(string.punctuation)\n",
    "    message = ''.join(ch for ch in message if ch not in exclude)\n",
    "    data_neg.append(message.lower())\n",
    "\n",
    "tokens_neg_list = []\n",
    "for message in data_neg:\n",
    "    tokensneg = word_tokenize(message)\n",
    "    tokens_neg_list.append(tokensneg)\n",
    "    print(tokensneg)\n",
    "    \n",
    "vectorizer_neg = TfidfVectorizer()\n",
    "X = vectorizer_neg.fit_transform(tokensneg)\n",
    "print(vectorizer_neg.get_feature_names())\n",
    "print(X.shape)\n"
   ]
  },
  {
   "cell_type": "code",
   "execution_count": 164,
   "metadata": {},
   "outputs": [
    {
     "name": "stdout",
     "output_type": "stream",
     "text": [
      "['hi', 'koen', 'dank', 'voor', 'het', 'aanbod', 'maar', 'momenteel', 'zit', 'ik', 'goed', 'bij', 'spyke', 'als', 'accountmanager', 'gr', 'michael']\n",
      "['hi', 'koen', 'ik', 'zit', 'goed', 'op', 'mijn', 'plek', 'bij', 'randstad', 'dus', 'heb', 'geen', 'interesse', 'maar', 'bedankt', 'voor', 'het', 'aanbod']\n",
      "['hi', 'koen', 'bedankt', 'voor', 'je', 'berichten', 'ik', 'sta', 'open', 'voor', 'nieuwe', 'uitdagingen', 'maar', 'helaas', 'niet', 'meer', 'in', 'sales', 'toch', 'bedankt', 'voor', 'je', 'interesse', 'en', 'succes', 'met', 'het', 'zoeken', 'naar', 'de', 'juiste', 'kandidaat', 'groet', 'isabelle']\n",
      "['beste', 'koen', 'bedankt', 'voor', 'je', 'berichtje', 'strategic', 'sales', 'is', 'echter', 'niets', 'voor', 'mij', 'ik', 'ben', 'opzoek', 'naar', 'een', 'functie', 'die', 'gericht', 'is', 'op', 'gastvrijheid', 'of', 'bijvoorbeeld', 'het', 'coördineren', 'van', 'projecten', 'heb', 'je', 'toevallig', 'een', 'functie', 'in', 'die', 'richting', 'open', 'staan', 'met', 'vriendelijke', 'groet', 'sander', 'den', 'hoedt']\n",
      "['goedemiddag', 'koen', 'bedankt', 'voor', 'je', 'bericht', 'op', 'dit', 'moment', 'ben', 'ik', 'niet', 'opzoek', 'naar', 'een', 'nieuwe', 'uitdaging', 'ik', 'zit', 'helemaal', 'op', 'mijn', 'plek', 'bij', 'randstad', 'fijne', 'dag', 'gewenst', 'groetjes', 'semke']\n",
      "['hoi', 'koen', 'bedankt', 'voor', 'het', 'benaderen', 'ik', 'ben', 'echter', 'zo', 'goed', 'als', 'rond', 'met', 'een', 'potentiële', 'werkgever', 'als', 'het', 'alsnog', 'stuk', 'loopt', 'dan', 'hoor', 'je', 'van', 'me']\n",
      "['hi', 'koen', 'thanks', 'voor', 'je', 'interesse', 'helaas', 'is', 'sales', 'niet', 'echt', 'iets', 'voor', 'mij', 'daarnaast', 'studeer', 'werk', 'ik', 'nu', 'dus', 'ook', 'nog', 'niet', 'op', 'zoek', 'naar', 'een', 'volgende', 'stap', 'wellicht', 'kunnen', 'we', 'iets', 'in', 'de', 'toekomst', 'voor', 'elkaar', 'betekenen', 'groet', 'lisa']\n",
      "['beste', 'koen', 'bedankt', 'voor', 'je', 'bericht', 'maar', 'ik', 'ben', 'momenteel', 'niet', 'echt', 'op', 'zoek', 'naar', 'een', 'andere', 'baan', 'heeft', 'ook', 'te', 'maken', 'met', 'een', 'mogelijke', 'verhuizing', 'in', 'ieder', 'geval', 'voor', 'je', 'interesse', 'wie', 'weet', 'spreken', 'we', 'elkaar', 'nog', 'eens', 'in', 'de', 'toekomst', 'nog', 'een', 'fijne', 'dag', 'gewenst', 'groet', 'jarinda']\n",
      "['hi', 'koen', 'bedankt', 'voor', 'je', 'interesse', 'gebaseerd', 'op', 'mijn', 'profiel', 'ik', 'ben', 'recent', 'met', 'een', 'nieuwe', 'functie', 'gestart', 'dus', 'de', 'komende', 'periode', 'kan', 'ik', 'geen', 'overstap', 'maken', 'als', 'het', 'in', 'de', 'toekomst', 'beter', 'uitkomt', 'zal', 'ik', 'zeker', 'naar', 'je', 'uitreiken', 'om', 'te', 'kijken', 'wat', 'de', 'mogelijkheden', 'zijn']\n",
      "['beste', 'koen', 'hartelijk', 'bedankt', 'voor', 'uw', 'bericht', 'helaas', 'zoek', 'ik', 'meer', 'iets', 'in', 'de', 'richting', 'van', 'hrfinancieel', 'medewerker', 'of', 'adviseur', 'groet', 'maxime', 'van', 'de', 'laar']\n",
      "['hoi', 'koen', 'bedankt', 'voor', 'je', 'bericht', 'momenteel', 'heb', 'ik', 'het', 'prima', 'naar', 'mijn', 'zin', 'binnen', 'mijn', 'huidige', 'functie', 'en', 'niet', 'op', 'zoek', 'naar', 'een', 'nieuwe', 'uitdaging', 'bedankt', 'in', 'ieder', 'geval', 'voor', 'de', 'interesse', 'mvg', 'remko']\n",
      "['beste', 'op', 'dit', 'moment', 'heb', 'ik', 'geen', 'interesse', 'mocht', 'ik', 'alsnog', 'op', 'zoek', 'zijn', 'dan', 'laat', 'ik', 'het', 'weten', 'grt', 'randy']\n",
      "['goedemorgen', 'koen', 'ik', 'heb', 'het', 'prima', 'naar', 'mn', 'zin', 'bij', 'ricoh', 'op', 'dit', 'moment', 'op', 'dit', 'moment', 'geen', 'interesse', 'gr', 'michel']\n",
      "['dag', 'koen', 'nee', 'nog', 'geen', 'interesse', 'succes', 'met', 'het', 'vinden', 'van', 'een', 'passende', 'kandidaat']\n",
      "['dag', 'een', 'geen', 'het', 'interesse', 'kandidaat', 'koen', 'met', 'nee', 'nog', 'passende', 'succes', 'van', 'vinden']\n",
      "(14, 14)\n"
     ]
    }
   ],
   "source": [
    "# TF-IDF Algorithm\n",
    "# Import text files and convert to lowercase\n",
    "fpos = open(\"Downloads/LinkedinAuto/linkedinpos.txt\", \"r\")\n",
    "textpos = fpos.read()\n",
    "message_list = textneg.split('\\n\\n')\n",
    "\n",
    "data_pos = []\n",
    "for message in message_list:\n",
    "    message = re.sub(r'\\d+', '', message)\n",
    "    exclude = set(string.punctuation)\n",
    "    message = ''.join(ch for ch in message if ch not in exclude)\n",
    "    data_pos.append(message.lower())\n",
    "\n",
    "tokens_pos_list = []\n",
    "for message in data_pos:\n",
    "    tokenspos = word_tokenize(message)\n",
    "    print(tokenspos)\n",
    "    tokens_pos_list.append(tokenspos)\n",
    "    \n",
    "vectorizer_pos = TfidfVectorizer()\n",
    "X = vectorizer_pos.fit_transform(tokenspos)\n",
    "print(vectorizer_pos.get_feature_names())\n",
    "print(X.shape)"
   ]
  },
  {
   "cell_type": "code",
   "execution_count": null,
   "metadata": {},
   "outputs": [],
   "source": [
    "# Split both datasets\n",
    "dtf_train, dtf_test = model_selection.train_test_split(dtf, test_size=0.3)"
   ]
  }
 ],
 "metadata": {
  "kernelspec": {
   "display_name": "Python 3",
   "language": "python",
   "name": "python3"
  },
  "language_info": {
   "codemirror_mode": {
    "name": "ipython",
    "version": 3
   },
   "file_extension": ".py",
   "mimetype": "text/x-python",
   "name": "python",
   "nbconvert_exporter": "python",
   "pygments_lexer": "ipython3",
   "version": "3.7.7"
  }
 },
 "nbformat": 4,
 "nbformat_minor": 4
}
